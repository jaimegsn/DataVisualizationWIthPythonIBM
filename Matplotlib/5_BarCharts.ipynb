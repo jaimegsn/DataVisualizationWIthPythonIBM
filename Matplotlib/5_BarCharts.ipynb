{
 "cells": [
  {
   "cell_type": "code",
   "execution_count": 1,
   "metadata": {},
   "outputs": [],
   "source": [
    "import matplotlib.pyplot as plt\n",
    "import numpy as np\n",
    "import pandas as pd"
   ]
  },
  {
   "cell_type": "code",
   "execution_count": 2,
   "metadata": {},
   "outputs": [
    {
     "data": {
      "text/html": [
       "<div>\n",
       "<style scoped>\n",
       "    .dataframe tbody tr th:only-of-type {\n",
       "        vertical-align: middle;\n",
       "    }\n",
       "\n",
       "    .dataframe tbody tr th {\n",
       "        vertical-align: top;\n",
       "    }\n",
       "\n",
       "    .dataframe thead th {\n",
       "        text-align: right;\n",
       "    }\n",
       "</style>\n",
       "<table border=\"1\" class=\"dataframe\">\n",
       "  <thead>\n",
       "    <tr style=\"text-align: right;\">\n",
       "      <th></th>\n",
       "      <th>Type</th>\n",
       "      <th>Coverage</th>\n",
       "      <th>AREA</th>\n",
       "      <th>AreaName</th>\n",
       "      <th>REG</th>\n",
       "      <th>RegName</th>\n",
       "      <th>DevName</th>\n",
       "      <th>2009</th>\n",
       "      <th>2010</th>\n",
       "      <th>2011</th>\n",
       "      <th>2012</th>\n",
       "      <th>2013</th>\n",
       "      <th>Total</th>\n",
       "    </tr>\n",
       "    <tr>\n",
       "      <th>OdName</th>\n",
       "      <th></th>\n",
       "      <th></th>\n",
       "      <th></th>\n",
       "      <th></th>\n",
       "      <th></th>\n",
       "      <th></th>\n",
       "      <th></th>\n",
       "      <th></th>\n",
       "      <th></th>\n",
       "      <th></th>\n",
       "      <th></th>\n",
       "      <th></th>\n",
       "      <th></th>\n",
       "    </tr>\n",
       "  </thead>\n",
       "  <tbody>\n",
       "    <tr>\n",
       "      <th>Algeria</th>\n",
       "      <td>Imigrants</td>\n",
       "      <td>Foreigners</td>\n",
       "      <td>223</td>\n",
       "      <td>Africa</td>\n",
       "      <td>123</td>\n",
       "      <td>Northem Africa</td>\n",
       "      <td>Developing regions</td>\n",
       "      <td>50000</td>\n",
       "      <td>41200</td>\n",
       "      <td>30000</td>\n",
       "      <td>20000</td>\n",
       "      <td>2000</td>\n",
       "      <td>143200</td>\n",
       "    </tr>\n",
       "    <tr>\n",
       "      <th>Andorra</th>\n",
       "      <td>Imigrants</td>\n",
       "      <td>Foreigners</td>\n",
       "      <td>421</td>\n",
       "      <td>Europe</td>\n",
       "      <td>321</td>\n",
       "      <td>Southern Europa</td>\n",
       "      <td>Developing regions</td>\n",
       "      <td>100</td>\n",
       "      <td>21230</td>\n",
       "      <td>3000</td>\n",
       "      <td>4000</td>\n",
       "      <td>5000</td>\n",
       "      <td>33330</td>\n",
       "    </tr>\n",
       "    <tr>\n",
       "      <th>Brazil</th>\n",
       "      <td>Imigrants</td>\n",
       "      <td>Foreigners</td>\n",
       "      <td>324</td>\n",
       "      <td>America</td>\n",
       "      <td>224</td>\n",
       "      <td>Southern America</td>\n",
       "      <td>Developing regions</td>\n",
       "      <td>500</td>\n",
       "      <td>40310</td>\n",
       "      <td>3000</td>\n",
       "      <td>20000</td>\n",
       "      <td>7000</td>\n",
       "      <td>70810</td>\n",
       "    </tr>\n",
       "    <tr>\n",
       "      <th>Albania</th>\n",
       "      <td>Imigrants</td>\n",
       "      <td>Foreigners</td>\n",
       "      <td>421</td>\n",
       "      <td>Europe</td>\n",
       "      <td>321</td>\n",
       "      <td>Southern Europe</td>\n",
       "      <td>Developing regions</td>\n",
       "      <td>100</td>\n",
       "      <td>2000</td>\n",
       "      <td>3000</td>\n",
       "      <td>4000</td>\n",
       "      <td>1200</td>\n",
       "      <td>10300</td>\n",
       "    </tr>\n",
       "    <tr>\n",
       "      <th>Argentina</th>\n",
       "      <td>Imigrants</td>\n",
       "      <td>Foreigners</td>\n",
       "      <td>324</td>\n",
       "      <td>America</td>\n",
       "      <td>224</td>\n",
       "      <td>Southern America</td>\n",
       "      <td>Developing regions</td>\n",
       "      <td>600</td>\n",
       "      <td>2231</td>\n",
       "      <td>20000</td>\n",
       "      <td>4000</td>\n",
       "      <td>900</td>\n",
       "      <td>27731</td>\n",
       "    </tr>\n",
       "  </tbody>\n",
       "</table>\n",
       "</div>"
      ],
      "text/plain": [
       "                Type    Coverage  AREA AreaName  REG           RegName  \\\n",
       "OdName                                                                   \n",
       "Algeria    Imigrants  Foreigners   223   Africa  123    Northem Africa   \n",
       "Andorra    Imigrants  Foreigners   421   Europe  321   Southern Europa   \n",
       "Brazil     Imigrants  Foreigners   324  America  224  Southern America   \n",
       "Albania    Imigrants  Foreigners   421   Europe  321   Southern Europe   \n",
       "Argentina  Imigrants  Foreigners   324  America  224  Southern America   \n",
       "\n",
       "                      DevName   2009   2010   2011   2012  2013   Total  \n",
       "OdName                                                                   \n",
       "Algeria    Developing regions  50000  41200  30000  20000  2000  143200  \n",
       "Andorra    Developing regions    100  21230   3000   4000  5000   33330  \n",
       "Brazil     Developing regions    500  40310   3000  20000  7000   70810  \n",
       "Albania    Developing regions    100   2000   3000   4000  1200   10300  \n",
       "Argentina  Developing regions    600   2231  20000   4000   900   27731  "
      ]
     },
     "execution_count": 2,
     "metadata": {},
     "output_type": "execute_result"
    }
   ],
   "source": [
    "# Gerando um dataset ficticio sobre imigrantes para o Canadá\n",
    "\n",
    "data = pd.DataFrame({'Type':['Imigrants','Imigrants','Imigrants','Imigrants','Imigrants','Imigrants','Imigrants','Imigrants'], \n",
    "'Coverage': ['Foreigners','Foreigners','Foreigners','Foreigners','Foreigners','Foreigners','Foreigners','Foreigners'],\n",
    "'OdName': ['Algeria','Andorra','Brazil','Albania','Argentina','Cuba','Afghanistain','Venezuela'],\n",
    "'AREA': [223,421,324,421,324,262,723,324],\n",
    "'AreaName': ['Africa','Europe','America','Europe','America','America','Asia','America'],\n",
    "'REG': [123,321,224,321,224,162,623,224],\n",
    "'RegName': ['Northem Africa','Southern Europa','Southern America','Southern Europe','Southern America','Central America','Southern Asia','Southern America'],\n",
    "'DevName': ['Developing regions','Developing regions','Developing regions','Developing regions','Developing regions','Developing regions','Developing regions','Developing regions'],\n",
    "'2009': [50000,100,500,100,600,500,5000,5000],\n",
    "'2010': [41200,21230,40310,2000,2231,4000,23000,4000],\n",
    "'2011': [30000,3000,3000,3000,20000,100,3000,4000],\n",
    "'2012': [20000,4000,20000,4000,4000,200,200,200],\n",
    "'2013': [2000,5000,7000,1200,900,300,700,8000]})\n",
    "\n",
    "processData = data.set_index('OdName')\n",
    "nColunm = []\n",
    "for i in data['OdName'].unique():\n",
    "    years = list(map(str,range(2009,2014))) # lista de 2009 á 2014 em formato de str armazenado na variavel years\n",
    "    nColunm.append(processData.loc[i,years].sum())\n",
    "  \n",
    "processData['Total']=nColunm\n",
    "processData.head()"
   ]
  },
  {
   "cell_type": "markdown",
   "metadata": {},
   "source": [
    "<h2>Gráfico de Barras</h2>\n",
    "<p>\n",
    "O Gráfico de Barras no eixo X ele representa o item que estamos analisando e o comprimento da barra corresponde a quantidade daquele item\n",
    "de acordo com o contexto do titulo do gráfico\n",
    "</p><br>\n",
    "\n",
    "\n",
    "<h3>Quando Usar ?</h3>\n",
    "<p>\n",
    "É comumente usado para compararmos os valores de cada item em um determinado ponto no tempo, por exemplo digamos que iremos visualizar a imigração do Brasil para o Canadá em 2009 a 2013, uma maneira de fazer isso é com o gráfico de barras onde cada barra individual representa um ano com o seu comprimento que representa sua quantidade de imigrantes.\n",
    "</p>"
   ]
  },
  {
   "cell_type": "code",
   "execution_count": 4,
   "metadata": {},
   "outputs": [
    {
     "data": {
      "image/png": "[encoded data removed]",
      "text/plain": [
       "<Figure size 432x288 with 1 Axes>"
      ]
     },
     "metadata": {
      "needs_background": "light"
     },
     "output_type": "display_data"
    }
   ],
   "source": [
    "# Script Layer\n",
    "\n",
    "years = list(map(str, range(2009,2014)))\n",
    "df = processData.loc['Brazil',years]\n",
    "\n",
    "#kind=barh cria barras horizontais\n",
    "df.plot(kind='bar')\n",
    "plt.title('Imigrantes do Brasil por ano ao Canadá')\n",
    "plt.xlabel('Anos')\n",
    "plt.ylabel('Número de Imigrantes')\n",
    "plt.show()"
   ]
  },
  {
   "cell_type": "code",
   "execution_count": 15,
   "metadata": {},
   "outputs": [
    {
     "data": {
      "image/png": "[encoded data removed]",
      "text/plain": [
       "<Figure size 432x288 with 1 Axes>"
      ]
     },
     "metadata": {
      "needs_background": "light"
     },
     "output_type": "display_data"
    }
   ],
   "source": [
    "# Artist Layer\n",
    "\n",
    "ax = df.plot(kind=\"bar\", color=['red','blue','green','black'])\n",
    "ax.set_ylabel('Número Imigrantes')\n",
    "ax.set_xlabel('Anos')\n",
    "ax.set_title('Imigrantes do Brasil por Ano')\n",
    "ax.set_xticks([0,1,2,3,4])\n",
    "ax.set_xticklabels(['09','10','11','12','13'])\n",
    "plt.show()"
   ]
  }
 ],
 "metadata": {
  "interpreter": {
   "hash": "bdb671202a387ebf0bc7bf04476cbafa528fae566193c2efe94e2aaf8539be45"
  },
  "kernelspec": {
   "display_name": "Python 3.9.7 ('base')",
   "language": "python",
   "name": "python3"
  },
  "language_info": {
   "codemirror_mode": {
    "name": "ipython",
    "version": 3
   },
   "file_extension": ".py",
   "mimetype": "text/x-python",
   "name": "python",
   "nbconvert_exporter": "python",
   "pygments_lexer": "ipython3",
   "version": "3.9.7"
  },
  "orig_nbformat": 4
 },
 "nbformat": 4,
 "nbformat_minor": 2
}
